{
 "cells": [
  {
   "cell_type": "markdown",
   "metadata": {},
   "source": [
    "### FINAL PROJECT(USING DATASCIENCE AND MACHINE LEARNING):"
   ]
  },
  {
   "cell_type": "code",
   "execution_count": 1,
   "metadata": {},
   "outputs": [],
   "source": [
    "##.................................Using machine learning...............................................................#\n",
    "\n",
    "\n",
    "import os\n",
    "import numpy as np\n",
    "import pandas as pd\n",
    "import sklearn as ske\n",
    "from sklearn.linear_model import LinearRegression\n",
    "from sklearn.svm import SVR\n",
    "from sklearn.model_selection import train_test_split"
   ]
  },
  {
   "cell_type": "code",
   "execution_count": 2,
   "metadata": {},
   "outputs": [
    {
     "name": "stdout",
     "output_type": "stream",
     "text": [
      "            Date  Temparature  Humidity  Airpollution  DustLabel\n",
      "0     02-11-2015        11.20     70.21         20.34      33.11\n",
      "1     03-11-2015        12.20     71.21         21.34      34.11\n",
      "2     04-11-2015        13.20     72.21         22.34      35.11\n",
      "3     05-11-2015        14.20     73.21         23.34      36.11\n",
      "4     06-11-2015        15.20     74.21         24.34      37.11\n",
      "...          ...          ...       ...           ...        ...\n",
      "1317  26-09-2020        90.14    386.24        730.33     839.21\n",
      "1318  27-09-2020        91.14    386.24        730.33     840.21\n",
      "1319  28-09-2020        92.14    386.24        730.33     841.21\n",
      "1320  29-09-2020        93.14    386.24        730.33     842.21\n",
      "1321  30-09-2020        94.14    386.24        730.33     843.21\n",
      "\n",
      "[1322 rows x 5 columns]\n"
     ]
    }
   ],
   "source": [
    "#loading the data frame (02-11-2015 to 30-09-2020)\n",
    "df =pd.read_csv('Dataset.csv')\n",
    "print(df.head(1322))"
   ]
  },
  {
   "cell_type": "code",
   "execution_count": 3,
   "metadata": {},
   "outputs": [
    {
     "name": "stdout",
     "output_type": "stream",
     "text": [
      "   DustLabel\n",
      "0      33.11\n",
      "1      34.11\n",
      "2      35.11\n",
      "3      36.11\n",
      "4      37.11\n"
     ]
    }
   ],
   "source": [
    "# Get the Adjusted with DustLabel\n",
    "df = df[['DustLabel']] \n",
    "#Take a look at the new data \n",
    "print(df.head())"
   ]
  },
  {
   "cell_type": "code",
   "execution_count": 4,
   "metadata": {},
   "outputs": [
    {
     "name": "stdout",
     "output_type": "stream",
     "text": [
      "      DustLabel  Prediction\n",
      "1317     839.21         NaN\n",
      "1318     840.21         NaN\n",
      "1319     841.21         NaN\n",
      "1320     842.21         NaN\n",
      "1321     843.21         NaN\n"
     ]
    }
   ],
   "source": [
    "# A variable for predicting 'n' days out into the future\n",
    "forecast_out = 30           #'n=30' days\n",
    "#Create another column (the target ) shifted 'n' units up\n",
    "df['Prediction'] = df[['DustLabel']].shift(-forecast_out)\n",
    "#print the new data set\n",
    "print(df.tail())"
   ]
  },
  {
   "cell_type": "code",
   "execution_count": 5,
   "metadata": {},
   "outputs": [
    {
     "name": "stdout",
     "output_type": "stream",
     "text": [
      "[[ 33.11]\n",
      " [ 34.11]\n",
      " [ 35.11]\n",
      " ...\n",
      " [811.21]\n",
      " [812.21]\n",
      " [813.21]]\n"
     ]
    }
   ],
   "source": [
    "#Create the independent data set (X)  #######\n",
    "#Convert the dataframe to a numpy array\n",
    "X = np.array(df.drop(['Prediction'],1))\n",
    "\n",
    "#Remove the last '30' rows\n",
    "X = X[:-forecast_out]\n",
    "print(X)"
   ]
  },
  {
   "cell_type": "code",
   "execution_count": 6,
   "metadata": {},
   "outputs": [
    {
     "name": "stdout",
     "output_type": "stream",
     "text": [
      "[ 63.11  64.11  65.11 ... 841.21 842.21 843.21]\n"
     ]
    }
   ],
   "source": [
    "#Create the dependent data set (y)  ####\n",
    "#Convert the dataframe to a numpy array \n",
    "\n",
    "y = np.array(df['Prediction'])\n",
    "# Get all of the y values except the last '30' rows\n",
    "y = y[:-forecast_out]\n",
    "print(y)"
   ]
  },
  {
   "cell_type": "code",
   "execution_count": 7,
   "metadata": {},
   "outputs": [],
   "source": [
    "#Split the data into 80% training and 20% testing\n",
    "x_train, x_test, y_train, y_test = train_test_split(X, y, test_size=0.2)"
   ]
  },
  {
   "cell_type": "code",
   "execution_count": 8,
   "metadata": {},
   "outputs": [
    {
     "data": {
      "text/plain": [
       "SVR(C=1000.0, cache_size=200, coef0=0.0, degree=3, epsilon=0.1, gamma=0.1,\n",
       "    kernel='rbf', max_iter=-1, shrinking=True, tol=0.001, verbose=False)"
      ]
     },
     "execution_count": 8,
     "metadata": {},
     "output_type": "execute_result"
    }
   ],
   "source": [
    "#Create and train the Support Vector Machine (Regressor) \n",
    "svr_rbf = SVR(kernel='rbf', C=1e3, gamma=0.1) \n",
    "svr_rbf.fit(x_train, y_train)"
   ]
  },
  {
   "cell_type": "code",
   "execution_count": 9,
   "metadata": {},
   "outputs": [
    {
     "name": "stdout",
     "output_type": "stream",
     "text": [
      "svm confidence:  0.8314773723592975\n"
     ]
    }
   ],
   "source": [
    "#Testing Model: Score returns the coefficient of determination R^2 of the prediction. \n",
    "#The best possible score is 1.0\n",
    "svm_confidence = svr_rbf.score(x_test, y_test)\n",
    "print(\"svm confidence: \", svm_confidence)"
   ]
  },
  {
   "cell_type": "code",
   "execution_count": 10,
   "metadata": {},
   "outputs": [
    {
     "data": {
      "text/plain": [
       "LinearRegression(copy_X=True, fit_intercept=True, n_jobs=None, normalize=False)"
      ]
     },
     "execution_count": 10,
     "metadata": {},
     "output_type": "execute_result"
    }
   ],
   "source": [
    "#Create and train the Linear Regression  Model\n",
    "lr = LinearRegression()\n",
    "#Train the model\n",
    "lr.fit(x_train, y_train)"
   ]
  },
  {
   "cell_type": "code",
   "execution_count": 11,
   "metadata": {},
   "outputs": [
    {
     "name": "stdout",
     "output_type": "stream",
     "text": [
      "lr confidence:  0.8944575982523681\n"
     ]
    }
   ],
   "source": [
    "#Testing Model: Score returns the coefficient of determination R^2 of the prediction. \n",
    "#The best possible score is 1.0\n",
    "lr_confidence = lr.score(x_test, y_test)\n",
    "print(\"lr confidence: \", lr_confidence)"
   ]
  },
  {
   "cell_type": "code",
   "execution_count": 12,
   "metadata": {},
   "outputs": [
    {
     "name": "stdout",
     "output_type": "stream",
     "text": [
      "[[814.21]\n",
      " [815.21]\n",
      " [816.21]\n",
      " [817.21]\n",
      " [818.21]\n",
      " [819.21]\n",
      " [820.21]\n",
      " [821.21]\n",
      " [822.21]\n",
      " [823.21]\n",
      " [824.21]\n",
      " [825.21]\n",
      " [826.21]\n",
      " [827.21]\n",
      " [828.21]\n",
      " [829.21]\n",
      " [830.21]\n",
      " [831.21]\n",
      " [832.21]\n",
      " [833.21]\n",
      " [834.21]\n",
      " [835.21]\n",
      " [836.21]\n",
      " [837.21]\n",
      " [838.21]\n",
      " [839.21]\n",
      " [840.21]\n",
      " [841.21]\n",
      " [842.21]\n",
      " [843.21]]\n"
     ]
    }
   ],
   "source": [
    "#Set x_forecast equal to the last 30 rows of the original data set from Adj. Close column\n",
    "x_forecast = np.array(df.drop(['Prediction'],1))[-forecast_out:]\n",
    "print(x_forecast)"
   ]
  },
  {
   "cell_type": "code",
   "execution_count": 13,
   "metadata": {},
   "outputs": [
    {
     "name": "stdout",
     "output_type": "stream",
     "text": [
      "LR_prediction with 30 days Future forecast:\n",
      "\n",
      "\n",
      "[810.805699   811.75778505 812.70987111 813.66195717 814.61404323\n",
      " 815.56612928 816.51821534 817.4703014  818.42238746 819.37447351\n",
      " 820.32655957 821.27864563 822.23073168 823.18281774 824.1349038\n",
      " 825.08698986 826.03907591 826.99116197 827.94324803 828.89533409\n",
      " 829.84742014 830.7995062  831.75159226 832.70367831 833.65576437\n",
      " 834.60785043 835.55993649 836.51202254 837.4641086  838.41619466]\n"
     ]
    }
   ],
   "source": [
    "#Print linear regression model predictions for the next '30' days\n",
    "lr_prediction = lr.predict(x_forecast)\n",
    "print('LR_prediction with 30 days Future forecast:')\n",
    "print('\\n')\n",
    "print(lr_prediction)"
   ]
  },
  {
   "cell_type": "code",
   "execution_count": 17,
   "metadata": {},
   "outputs": [
    {
     "data": {
      "image/png": "[encoded data removed]",
      "text/plain": [
       "<Figure size 720x720 with 1 Axes>"
      ]
     },
     "metadata": {},
     "output_type": "display_data"
    }
   ],
   "source": [
    "import datetime\n",
    "import matplotlib.pyplot as plt \n",
    "\n",
    "# x-coordinates of left sides of\n",
    "left = [1, 2, 3, 4, 5, 6, 7, 8, 9, 10, 11, 12, 13, 14, 15, 16, 17, 18, 19, 20, 21, 22, 23, 24, 25, 26, 27, 28, 29, 30] \n",
    "  \n",
    "# heights of bars(% of future forecast)\n",
    "#height(y) = [0.938, 0.956, 0.906, 0.948, 0.954, 0.956, 0.89.....,.... ] \n",
    "height = list(lr_prediction)\n",
    "  \n",
    "# labels for bars \n",
    "tick_label = [1, 2, 3, 4, 5, 6, 7, 8, 9, 10, 11, 12, 13, 14, 15, 16, 17, 18, 19, 20, 21, 22, 23, 24, 25, 26, 27, 28, 29, 30] \n",
    "\n",
    "size=10\n",
    "fig,ax =plt.subplots(figsize=(size,size))\n",
    "\n",
    "# plotting a bar chart \n",
    "plt.style.use('ggplot')\n",
    "plt.bar(left, height, tick_label = tick_label, \n",
    "        width = 0.2, color = ['red'])#, 'green','yellow','blue','orange']) \n",
    "  \n",
    "# naming the x-axis \n",
    "plt.xlabel('x - axis(Forecast with 30-days)') \n",
    "# naming the y-axis \n",
    "plt.ylabel('y - axis(Forecast predict%)') \n",
    "# plot title \n",
    "plt.title('Future Forecasting(LR)') \n",
    "  \n",
    "# function to show the plot \n",
    "plt.show() "
   ]
  },
  {
   "cell_type": "code",
   "execution_count": 15,
   "metadata": {},
   "outputs": [
    {
     "name": "stdout",
     "output_type": "stream",
     "text": [
      "SVM_prediction with 30 days Future forecast:\n",
      "\n",
      "\n",
      "[809.78381416 734.77099453 636.95489661 549.07182995 490.87232492\n",
      " 461.46057792 449.8827324  446.28534337 445.39507459 445.21846462\n",
      " 445.19024769 445.18660408 445.1862228  445.18619039 445.18618815\n",
      " 445.18618803 445.18618802 445.18618802 445.18618802 445.18618802\n",
      " 445.18618802 445.18618802 445.18618802 445.18618802 445.18618802\n",
      " 445.18618802 445.18618802 445.18618802 445.18618802 445.18618802]\n"
     ]
    }
   ],
   "source": [
    "# Print support vector regressor model predictions for the next '30' days\n",
    "svm_prediction = svr_rbf.predict(x_forecast)\n",
    "print('SVM_prediction with 30 days Future forecast:')\n",
    "print('\\n')\n",
    "print(svm_prediction)"
   ]
  },
  {
   "cell_type": "code",
   "execution_count": 16,
   "metadata": {},
   "outputs": [
    {
     "data": {
      "image/png": "[encoded data removed]",
      "text/plain": [
       "<Figure size 720x360 with 1 Axes>"
      ]
     },
     "metadata": {
      "needs_background": "light"
     },
     "output_type": "display_data"
    }
   ],
   "source": [
    "# x-coordinates of left sides of bars  \n",
    "left = [1, 2, 3, 4, 5, 6, 7, 8, 9, 10, 11, 12, 13, 14, 15, 16, 17, 18, 19, 20, 21, 22, 23, 24, 25, 26, 27, 28, 29, 30] \n",
    "  \n",
    "# heights of bars(% of accuracy)\n",
    "#height(y) = [0.938, 0.956, 0.906, 0.948, 0.954, 0.956, 0.89,.........,.... ] \n",
    "height = list(svm_prediction)\n",
    "  \n",
    "# labels for bars \n",
    "\n",
    "tick_label = [1, 2, 3, 4, 5, 6, 7, 8, 9, 10, 11, 12, 13, 14, 15, 16, 17, 18, 19, 20, 21, 22, 23, 24, 25, 26, 27, 28, 29, 30] \n",
    "\n",
    "size=10\n",
    "fig,ax =plt.subplots(figsize=(size,5))\n",
    "\n",
    "# plotting a bar chart \n",
    "plt.style.use('ggplot')\n",
    "plt.bar(left, height, tick_label = tick_label, \n",
    "        width = 0.2, color = ['green'])#, 'green','yellow','blue','orange'])\n",
    "  \n",
    "# naming the x-axis \n",
    "plt.xlabel('x - axis(Forecast with 30-days)') \n",
    "# naming the y-axis \n",
    "plt.ylabel('y - axis(Forecast predict%)') \n",
    "# plot title \n",
    "plt.title('Future Forecasting(SVM)') \n",
    "  \n",
    "# function to show the plot \n",
    "plt.show() "
   ]
  },
  {
   "cell_type": "code",
   "execution_count": null,
   "metadata": {},
   "outputs": [],
   "source": []
  }
 ],
 "metadata": {
  "kernelspec": {
   "display_name": "Python 3",
   "language": "python",
   "name": "python3"
  },
  "language_info": {
   "codemirror_mode": {
    "name": "ipython",
    "version": 3
   },
   "file_extension": ".py",
   "mimetype": "text/x-python",
   "name": "python",
   "nbconvert_exporter": "python",
   "pygments_lexer": "ipython3",
   "version": "3.7.4"
  }
 },
 "nbformat": 4,
 "nbformat_minor": 2
}
